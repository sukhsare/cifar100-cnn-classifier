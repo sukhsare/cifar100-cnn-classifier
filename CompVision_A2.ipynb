{
  "cells": [
    {
      "cell_type": "code",
      "execution_count": 2,
      "metadata": {
        "id": "QJmxTSWymSPr"
      },
      "outputs": [],
      "source": [
        "import torch\n",
        "import torch.nn as nn\n",
        "import torch.optim as optim\n",
        "import torchvision\n",
        "import torchvision.transforms as transforms\n",
        "\n",
        "# Device configuration\n",
        "device = torch.device('cuda' if torch.cuda.is_available() else 'cpu')\n"
      ]
    },
    {
      "cell_type": "code",
      "execution_count": 3,
      "metadata": {
        "colab": {
          "base_uri": "https://localhost:8080/"
        },
        "id": "yPgcduLHmUfF",
        "outputId": "0a85f9e0-838c-4dff-af66-83a2c6bde844"
      },
      "outputs": [
        {
          "name": "stdout",
          "output_type": "stream",
          "text": [
            "Files already downloaded and verified\n",
            "Files already downloaded and verified\n"
          ]
        }
      ],
      "source": [
        "# Data augmentation and normalisation\n",
        "transform_train = transforms.Compose([\n",
        "    transforms.RandomCrop(32, padding=4),  # Augmentation: Randomly crop images\n",
        "    transforms.RandomHorizontalFlip(),     # Augmentation: Horizontal flip\n",
        "    transforms.ToTensor(),                 # Convert to tensor\n",
        "    transforms.Normalize((0.5071, 0.4867, 0.4408), (0.2675, 0.2565, 0.2761)),  # CIFAR-100 mean and std\n",
        "])\n",
        "\n",
        "transform_test = transforms.Compose([\n",
        "    transforms.ToTensor(),\n",
        "    transforms.Normalize((0.5071, 0.4867, 0.4408), (0.2675, 0.2565, 0.2761)),\n",
        "])\n",
        "\n",
        "# Load CIFAR-100 dataset\n",
        "train_dataset = torchvision.datasets.CIFAR100(root='./data', train=True, download=True, transform=transform_train)\n",
        "train_loader = torch.utils.data.DataLoader(train_dataset, batch_size=128, shuffle=True, num_workers=2)\n",
        "\n",
        "test_dataset = torchvision.datasets.CIFAR100(root='./data', train=False, download=True, transform=transform_test)\n",
        "test_loader = torch.utils.data.DataLoader(test_dataset, batch_size=128, shuffle=False, num_workers=2)\n"
      ]
    },
    {
      "cell_type": "code",
      "execution_count": 6,
      "metadata": {
        "id": "2_uAznY-maEZ"
      },
      "outputs": [],
      "source": [
        "# CNN model\n",
        "class ImprovedCNN(nn.Module):\n",
        "    def __init__(self):\n",
        "        super(ImprovedCNN, self).__init__()\n",
        "        self.features = nn.Sequential(\n",
        "            nn.Conv2d(3, 64, kernel_size=3, padding=1),\n",
        "            nn.BatchNorm2d(64),  # Batch Normalisation\n",
        "            nn.LeakyReLU(negative_slope=0.1, inplace=True),  # Leaky ReLU\n",
        "            nn.MaxPool2d(kernel_size=2, stride=2),\n",
        "\n",
        "            nn.Conv2d(64, 128, kernel_size=3, padding=1),\n",
        "            nn.BatchNorm2d(128),\n",
        "            nn.LeakyReLU(negative_slope=0.1, inplace=True),\n",
        "            nn.MaxPool2d(kernel_size=2, stride=2),\n",
        "\n",
        "            nn.Conv2d(128, 256, kernel_size=3, padding=1),\n",
        "            nn.BatchNorm2d(256),\n",
        "            nn.LeakyReLU(negative_slope=0.1, inplace=True),\n",
        "            nn.Conv2d(256, 256, kernel_size=3, padding=1),\n",
        "            nn.BatchNorm2d(256),\n",
        "            nn.LeakyReLU(negative_slope=0.1, inplace=True),\n",
        "            nn.MaxPool2d(kernel_size=2, stride=2),\n",
        "        )\n",
        "        self.classifier = nn.Sequential(\n",
        "            nn.Linear(256 * 4 * 4, 512),\n",
        "            nn.LeakyReLU(negative_slope=0.1, inplace=True),\n",
        "            nn.Dropout(0.3),  # Reduced Dropout rate\n",
        "            nn.Linear(512, 100),\n",
        "        )\n",
        "\n",
        "    def forward(self, x):\n",
        "        x = self.features(x)\n",
        "        x = x.view(x.size(0), -1)  # Flatten the tensor\n",
        "        x = self.classifier(x)\n",
        "        return x\n"
      ]
    },
    {
      "cell_type": "code",
      "execution_count": 5,
      "metadata": {
        "id": "oG9NfojImd0H"
      },
      "outputs": [],
      "source": [
        "# Instantiate the model\n",
        "model = ImprovedCNN().to(device)\n",
        "\n",
        "# Loss and optimizer\n",
        "criterion = nn.CrossEntropyLoss()\n",
        "optimizer = optim.Adam(model.parameters(), lr=0.001)  # Changed to Adam optimizer\n"
      ]
    },
    {
      "cell_type": "code",
      "execution_count": 7,
      "metadata": {
        "id": "VwOMSm4OmoUr"
      },
      "outputs": [],
      "source": [
        "# Training function\n",
        "def train(model, train_loader, criterion, optimizer):\n",
        "    model.train()\n",
        "    running_loss = 0.0\n",
        "    correct = 0\n",
        "    total = 0\n",
        "    for inputs, targets in train_loader:\n",
        "        inputs, targets = inputs.to(device), targets.to(device)\n",
        "        optimizer.zero_grad()\n",
        "        outputs = model(inputs)\n",
        "        loss = criterion(outputs, targets)\n",
        "        loss.backward()\n",
        "        optimizer.step()\n",
        "\n",
        "        running_loss += loss.item()\n",
        "        _, predicted = outputs.max(1)\n",
        "        total += targets.size(0)\n",
        "        correct += predicted.eq(targets).sum().item()\n",
        "\n",
        "    train_loss = running_loss / len(train_loader)\n",
        "    train_acc = 100. * correct / total\n",
        "    return train_loss, train_acc\n"
      ]
    },
    {
      "cell_type": "code",
      "execution_count": 8,
      "metadata": {
        "id": "C3Rkrn2Lms26"
      },
      "outputs": [],
      "source": [
        "# Testing function\n",
        "def test(model, test_loader, criterion):\n",
        "    model.eval()\n",
        "    running_loss = 0.0\n",
        "    correct = 0\n",
        "    total = 0\n",
        "    with torch.no_grad():\n",
        "        for inputs, targets in test_loader:\n",
        "            inputs, targets = inputs.to(device), targets.to(device)\n",
        "            outputs = model(inputs)\n",
        "            loss = criterion(outputs, targets)\n",
        "\n",
        "            running_loss += loss.item()\n",
        "            _, predicted = outputs.max(1)\n",
        "            total += targets.size(0)\n",
        "            correct += predicted.eq(targets).sum().item()\n",
        "\n",
        "    test_loss = running_loss / len(test_loader)\n",
        "    test_acc = 100. * correct / total\n",
        "    return test_loss, test_acc\n"
      ]
    },
    {
      "cell_type": "code",
      "execution_count": 9,
      "metadata": {
        "colab": {
          "base_uri": "https://localhost:8080/"
        },
        "id": "0PXrMSGRmwCR",
        "outputId": "5a116ea6-7ea7-414e-a714-8c5e1b16f1b7"
      },
      "outputs": [
        {
          "name": "stdout",
          "output_type": "stream",
          "text": [
            "Epoch [1/20]:\n",
            "Train Loss: 3.8303, Train Accuracy: 11.39%\n",
            "Test Loss: 3.2829, Test Accuracy: 19.86%\n",
            "Epoch [2/20]:\n",
            "Train Loss: 3.1037, Train Accuracy: 23.20%\n",
            "Test Loss: 2.7386, Test Accuracy: 30.78%\n",
            "Epoch [3/20]:\n",
            "Train Loss: 2.6770, Train Accuracy: 31.30%\n",
            "Test Loss: 2.4239, Test Accuracy: 36.43%\n",
            "Epoch [4/20]:\n",
            "Train Loss: 2.3954, Train Accuracy: 37.05%\n",
            "Test Loss: 2.2304, Test Accuracy: 41.50%\n",
            "Epoch [5/20]:\n",
            "Train Loss: 2.1838, Train Accuracy: 41.88%\n",
            "Test Loss: 2.0873, Test Accuracy: 44.24%\n",
            "Epoch [6/20]:\n",
            "Train Loss: 2.0151, Train Accuracy: 45.63%\n",
            "Test Loss: 1.9405, Test Accuracy: 47.79%\n",
            "Epoch [7/20]:\n",
            "Train Loss: 1.8871, Train Accuracy: 48.53%\n",
            "Test Loss: 1.8877, Test Accuracy: 49.63%\n",
            "Epoch [8/20]:\n",
            "Train Loss: 1.7636, Train Accuracy: 51.31%\n",
            "Test Loss: 1.7514, Test Accuracy: 52.40%\n",
            "Epoch [9/20]:\n",
            "Train Loss: 1.6600, Train Accuracy: 53.67%\n",
            "Test Loss: 1.6768, Test Accuracy: 53.91%\n",
            "Epoch [10/20]:\n",
            "Train Loss: 1.5745, Train Accuracy: 55.94%\n",
            "Test Loss: 1.6973, Test Accuracy: 54.39%\n",
            "Epoch [11/20]:\n",
            "Train Loss: 1.4968, Train Accuracy: 57.84%\n",
            "Test Loss: 1.5725, Test Accuracy: 57.17%\n",
            "Epoch [12/20]:\n",
            "Train Loss: 1.4249, Train Accuracy: 59.36%\n",
            "Test Loss: 1.6077, Test Accuracy: 56.38%\n",
            "Epoch [13/20]:\n",
            "Train Loss: 1.3570, Train Accuracy: 61.27%\n",
            "Test Loss: 1.5497, Test Accuracy: 57.66%\n",
            "Epoch [14/20]:\n",
            "Train Loss: 1.2940, Train Accuracy: 62.78%\n",
            "Test Loss: 1.5679, Test Accuracy: 57.67%\n",
            "Epoch [15/20]:\n",
            "Train Loss: 1.2394, Train Accuracy: 64.22%\n",
            "Test Loss: 1.5408, Test Accuracy: 58.34%\n",
            "Epoch [16/20]:\n",
            "Train Loss: 1.1925, Train Accuracy: 65.38%\n",
            "Test Loss: 1.5062, Test Accuracy: 59.36%\n",
            "Epoch [17/20]:\n",
            "Train Loss: 1.1391, Train Accuracy: 66.51%\n",
            "Test Loss: 1.4410, Test Accuracy: 60.44%\n",
            "Epoch [18/20]:\n",
            "Train Loss: 1.1083, Train Accuracy: 67.08%\n",
            "Test Loss: 1.4507, Test Accuracy: 60.79%\n",
            "Epoch [19/20]:\n",
            "Train Loss: 1.0542, Train Accuracy: 68.87%\n",
            "Test Loss: 1.4956, Test Accuracy: 60.55%\n",
            "Epoch [20/20]:\n",
            "Train Loss: 1.0108, Train Accuracy: 70.10%\n",
            "Test Loss: 1.4998, Test Accuracy: 60.80%\n"
          ]
        }
      ],
      "source": [
        "# Training and testing loop\n",
        "num_epochs = 20\n",
        "for epoch in range(num_epochs):\n",
        "    train_loss, train_acc = train(model, train_loader, criterion, optimizer)\n",
        "    test_loss, test_acc = test(model, test_loader, criterion)\n",
        "\n",
        "    print(f'Epoch [{epoch+1}/{num_epochs}]:')\n",
        "    print(f'Train Loss: {train_loss:.4f}, Train Accuracy: {train_acc:.2f}%')\n",
        "    print(f'Test Loss: {test_loss:.4f}, Test Accuracy: {test_acc:.2f}%')\n"
      ]
    },
    {
      "cell_type": "code",
      "execution_count": null,
      "metadata": {
        "id": "YmY74bbRmypi"
      },
      "outputs": [],
      "source": [
        "# References:\n",
        "# - Leaky ReLU: Xu, B., Wang, N., & Li, M. (2015). Empirical Evaluation of Rectified Activations in Convolutional Network*. arXiv.\n",
        "# - Adam Optimizer: Kingma, D. P., & Ba, J. (2014). Adam: A Method for Stochastic Optimization*. ICLR.\n",
        "# - PyTorch documentation: https://pytorch.org/tutorials/"
      ]
    }
  ],
  "metadata": {
    "accelerator": "GPU",
    "colab": {
      "gpuType": "T4",
      "provenance": []
    },
    "kernelspec": {
      "display_name": "Python 3",
      "name": "python3"
    },
    "language_info": {
      "name": "python"
    }
  },
  "nbformat": 4,
  "nbformat_minor": 0
}
